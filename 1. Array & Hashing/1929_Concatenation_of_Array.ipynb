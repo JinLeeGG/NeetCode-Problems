{
  "nbformat": 4,
  "nbformat_minor": 0,
  "metadata": {
    "colab": {
      "provenance": [],
      "authorship_tag": "ABX9TyOiLTGm2H5unOxNeXCmdvjL",
      "include_colab_link": true
    },
    "kernelspec": {
      "name": "python3",
      "display_name": "Python 3"
    },
    "language_info": {
      "name": "python"
    }
  },
  "cells": [
    {
      "cell_type": "markdown",
      "metadata": {
        "id": "view-in-github",
        "colab_type": "text"
      },
      "source": [
        "<a href=\"https://colab.research.google.com/github/JinLeeGG/NeetCode-Problems/blob/main/1929_Concatenation_of_Array.ipynb\" target=\"_parent\"><img src=\"https://colab.research.google.com/assets/colab-badge.svg\" alt=\"Open In Colab\"/></a>"
      ]
    },
    {
      "cell_type": "markdown",
      "source": [
        "https://leetcode.com/problems/concatenation-of-array/description/"
      ],
      "metadata": {
        "id": "6BeD_G5t9OnL"
      }
    },
    {
      "cell_type": "code",
      "source": [
        "def getConcatenation(nums):\n",
        "  newList = []\n",
        "  count = 1\n",
        "  while count <= 2:\n",
        "    for i in range(len(nums)):\n",
        "      newList.append(nums[i])\n",
        "    count += 1\n",
        "\n",
        "  return newList\n",
        "\n",
        "print(getConcatenation([1,2,3,3]))"
      ],
      "metadata": {
        "colab": {
          "base_uri": "https://localhost:8080/"
        },
        "id": "k_EHxyq69Ted",
        "outputId": "6ffb3177-b3e1-42e3-dfb5-25b4de000c4c"
      },
      "execution_count": null,
      "outputs": [
        {
          "output_type": "stream",
          "name": "stdout",
          "text": [
            "[1, 2, 3, 3, 1, 2, 3, 3]\n"
          ]
        }
      ]
    }
  ]
}