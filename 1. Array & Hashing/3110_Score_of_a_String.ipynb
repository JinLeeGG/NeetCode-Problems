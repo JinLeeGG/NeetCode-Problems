{
  "nbformat": 4,
  "nbformat_minor": 0,
  "metadata": {
    "colab": {
      "provenance": [],
      "authorship_tag": "ABX9TyN2ZFVlq1Li0bHcEpkVjHEs",
      "include_colab_link": true
    },
    "kernelspec": {
      "name": "python3",
      "display_name": "Python 3"
    },
    "language_info": {
      "name": "python"
    }
  },
  "cells": [
    {
      "cell_type": "markdown",
      "metadata": {
        "id": "view-in-github",
        "colab_type": "text"
      },
      "source": [
        "<a href=\"https://colab.research.google.com/github/JinLeeGG/NeetCode-Problems/blob/main/3110_Score_of_a_String.ipynb\" target=\"_parent\"><img src=\"https://colab.research.google.com/assets/colab-badge.svg\" alt=\"Open In Colab\"/></a>"
      ]
    },
    {
      "cell_type": "markdown",
      "source": [
        "https://leetcode.com/problems/score-of-a-string/description/"
      ],
      "metadata": {
        "id": "bwuHqHN9dLsF"
      }
    },
    {
      "cell_type": "code",
      "execution_count": null,
      "metadata": {
        "colab": {
          "base_uri": "https://localhost:8080/"
        },
        "id": "Ke02Kn-Xzl8d",
        "outputId": "6babfbed-a71e-45ea-af58-5cedd7dae5ff"
      },
      "outputs": [
        {
          "output_type": "execute_result",
          "data": {
            "text/plain": [
              "13"
            ]
          },
          "metadata": {},
          "execution_count": 21
        }
      ],
      "source": [
        "def scoreOfString(s):\n",
        "    \"\"\"\n",
        "    :type s: str\n",
        "    :rtype: int\n",
        "    \"\"\"\n",
        "    st = len(s)\n",
        "    p1 = 0\n",
        "    p2 = 1\n",
        "    score = 0\n",
        "    for i in range(st-1):\n",
        "       score += abs(ord(s[p1]) - ord(s[p2]))\n",
        "       p1 += 1\n",
        "       p2 += 1\n",
        "\n",
        "    return score\n",
        "\n",
        "\n",
        "scoreOfString(\"hello\")\n",
        "\n"
      ]
    }
  ]
}