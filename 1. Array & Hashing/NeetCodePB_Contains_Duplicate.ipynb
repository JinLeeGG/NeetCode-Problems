{
  "nbformat": 4,
  "nbformat_minor": 0,
  "metadata": {
    "colab": {
      "provenance": [],
      "authorship_tag": "ABX9TyO+3+MGoQYS3GUDggC2LyPE",
      "include_colab_link": true
    },
    "kernelspec": {
      "name": "python3",
      "display_name": "Python 3"
    },
    "language_info": {
      "name": "python"
    }
  },
  "cells": [
    {
      "cell_type": "markdown",
      "metadata": {
        "id": "view-in-github",
        "colab_type": "text"
      },
      "source": [
        "<a href=\"https://colab.research.google.com/github/JinLeeGG/NeetCode-Problems/blob/main/NeetCodePB_Contains_Duplicate.ipynb\" target=\"_parent\"><img src=\"https://colab.research.google.com/assets/colab-badge.svg\" alt=\"Open In Colab\"/></a>"
      ]
    },
    {
      "cell_type": "markdown",
      "source": [
        "https://neetcode.io/problems/duplicate-integer"
      ],
      "metadata": {
        "id": "SS1JDLw-E94z"
      }
    },
    {
      "cell_type": "code",
      "execution_count": null,
      "metadata": {
        "colab": {
          "base_uri": "https://localhost:8080/"
        },
        "id": "kknHJmbaDcUw",
        "outputId": "ec8bf299-e6f2-48e4-de57-c9519f6cde79"
      },
      "outputs": [
        {
          "output_type": "execute_result",
          "data": {
            "text/plain": [
              "False"
            ]
          },
          "metadata": {},
          "execution_count": 14
        }
      ],
      "source": [
        "def hasDuplicate(nums):\n",
        "    if len(set(nums)) < len(nums):\n",
        "      return False\n",
        "    else:\n",
        "      return True\n",
        "\n",
        "hasDuplicate([1,2,3,4,3])"
      ]
    }
  ]
}