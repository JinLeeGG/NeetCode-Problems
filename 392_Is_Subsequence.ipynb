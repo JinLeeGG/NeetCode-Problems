{
  "nbformat": 4,
  "nbformat_minor": 0,
  "metadata": {
    "colab": {
      "provenance": [],
      "authorship_tag": "ABX9TyMkihMpiliqxiFbgSjMtnvc",
      "include_colab_link": true
    },
    "kernelspec": {
      "name": "python3",
      "display_name": "Python 3"
    },
    "language_info": {
      "name": "python"
    }
  },
  "cells": [
    {
      "cell_type": "markdown",
      "metadata": {
        "id": "view-in-github",
        "colab_type": "text"
      },
      "source": [
        "<a href=\"https://colab.research.google.com/github/JinLeeGG/NeetCode-Problems/blob/main/392_Is_Subsequence.ipynb\" target=\"_parent\"><img src=\"https://colab.research.google.com/assets/colab-badge.svg\" alt=\"Open In Colab\"/></a>"
      ]
    },
    {
      "cell_type": "markdown",
      "source": [
        "# 392. Is Subsequence\n",
        "\n",
        "Given two strings s and t, return true if s is a subsequence of t, or false otherwise.\n",
        "\n",
        "A subsequence of a string is a new string that is formed from the original string by deleting some (can be none) of the characters without disturbing the relative positions of the remaining characters. (i.e., \"ace\" is a subsequence of \"abcde\" while \"aec\" is not).\n",
        "\n",
        "\n",
        "\n",
        "Example 1:\n",
        "\n",
        "Input: s = \"abc\", t = \"[ahbgdc](https://)\"\n",
        "Output: true\n",
        "\n",
        "\n",
        "Example 2:\n",
        "\n",
        "Input: s = \"axc\", t = \"ahbgdc\"\n",
        "Output: false"
      ],
      "metadata": {
        "id": "GarxmuQqWcJ0"
      }
    },
    {
      "cell_type": "code",
      "execution_count": 40,
      "metadata": {
        "colab": {
          "base_uri": "https://localhost:8080/"
        },
        "id": "yg9Zth8yV5uA",
        "outputId": "f32b3774-7e3e-4abd-a22e-9c9e757a464a"
      },
      "outputs": [
        {
          "output_type": "stream",
          "name": "stdout",
          "text": [
            "['a', 'b', 'c']\n",
            "['a', 'h', 'b', 'g', 'd', 'c']\n",
            "c\n",
            "a\n",
            "h\n",
            "b\n",
            "g\n",
            "d\n",
            "c\n",
            "0\n"
          ]
        }
      ],
      "source": [
        "\n",
        "def isSubsequence(s, t):\n",
        "    \"\"\"\n",
        "    :type s: str\n",
        "    :type t: str\n",
        "    :rtype: bool\n",
        "    \"\"\"\n",
        "    a = list(s)\n",
        "    b = list(t)\n",
        "    count = 0\n",
        "\n",
        "    print(a)\n",
        "    print(b)\n",
        "    print(b[5])\n",
        "\n",
        "    for i in range(0, len(b)):\n",
        "\n",
        "        # for j in range(len(a)):\n",
        "        #     print(a[i])\n",
        "\n",
        "            # if b[i].find(a[j]):\n",
        "            #     print(b[i])\n",
        "\n",
        "\n",
        "\n",
        "    print(count)\n",
        "\n",
        "\n",
        "isSubsequence(\"abc\", \"ahbgdc\")\n",
        "\n"
      ]
    },
    {
      "cell_type": "code",
      "source": [
        "def isSubsequence(s, t):\n",
        "    \"\"\"\n",
        "    :type s: str\n",
        "    :type t: str\n",
        "    :rtype: bool\n",
        "    \"\"\"\n",
        "    i, j = 0, 0\n",
        "\n",
        "    while i < len(s)  and j < len(t):\n",
        "        if s[i] == t[j]:\n",
        "          i += 1\n",
        "          j += 1\n",
        "        else:\n",
        "          j += 1\n",
        "\n",
        "    if i == len(s):\n",
        "      return True\n",
        "    else:\n",
        "      return False\n",
        "\n",
        "\n",
        "isSubsequence(\"abc\", \"ahbgdc\")"
      ],
      "metadata": {
        "colab": {
          "base_uri": "https://localhost:8080/"
        },
        "id": "Ol84_EK6aUjF",
        "outputId": "23bf83e2-64ab-4efa-93db-90aa880bce73"
      },
      "execution_count": 45,
      "outputs": [
        {
          "output_type": "execute_result",
          "data": {
            "text/plain": [
              "True"
            ]
          },
          "metadata": {},
          "execution_count": 45
        }
      ]
    }
  ]
}